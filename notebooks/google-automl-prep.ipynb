{
 "cells": [
  {
   "cell_type": "code",
   "execution_count": 2,
   "metadata": {},
   "outputs": [],
   "source": [
    "import os\n",
    "import pandas as pd"
   ]
  },
  {
   "cell_type": "code",
   "execution_count": 3,
   "metadata": {},
   "outputs": [
    {
     "data": {
      "text/plain": [
       "['dog', 'cat']"
      ]
     },
     "execution_count": 3,
     "metadata": {},
     "output_type": "execute_result"
    }
   ],
   "source": [
    "# hardcoded\n",
    "data_folders = [\"dog\", \"cat\"]\n",
    "data_folders"
   ]
  },
  {
   "cell_type": "code",
   "execution_count": 4,
   "metadata": {},
   "outputs": [
    {
     "name": "stdout",
     "output_type": "stream",
     "text": [
      "dog.1.jpg\n",
      "cat.1.jpg\n"
     ]
    },
    {
     "data": {
      "text/plain": [
       "[12500, 12500]"
      ]
     },
     "execution_count": 4,
     "metadata": {},
     "output_type": "execute_result"
    }
   ],
   "source": [
    "# array of arrays, containing the list files, grouped by folder\n",
    "filenames = [os.listdir(f) for f in data_folders]\n",
    "[print(f[1]) for f in filenames]\n",
    "[len(f) for f in filenames]"
   ]
  },
  {
   "cell_type": "code",
   "execution_count": 5,
   "metadata": {},
   "outputs": [],
   "source": [
    "files_dict = dict(zip(data_folders, filenames))"
   ]
  },
  {
   "cell_type": "code",
   "execution_count": 6,
   "metadata": {},
   "outputs": [],
   "source": [
    "base_gcs_path = 'gs://rdc-automl-catsvsdogs/'"
   ]
  },
  {
   "cell_type": "code",
   "execution_count": 7,
   "metadata": {},
   "outputs": [],
   "source": [
    "# What we want:\n",
    "# gs://rdc-automl-catsvsdogs/dog/dog.0.jpg, 'dog' \n",
    "# base_gcs_path + dict_key + '/' + filename\n",
    "\n",
    "data_array = []\n",
    "\n",
    "for (dict_key, files_list) in files_dict.items():\n",
    "    for filename in files_list:\n",
    "        # print(base_gcs_path + dict_key + '/' + filename)\n",
    "        if '.jpg' not in filename: \n",
    "            continue # don't include non-photos\n",
    "\n",
    "        label = dict_key\n",
    "        \n",
    "        data_array.append((base_gcs_path + dict_key + '/' + filename , label))"
   ]
  },
  {
   "cell_type": "code",
   "execution_count": 9,
   "metadata": {},
   "outputs": [],
   "source": [
    "dataframe = pd.DataFrame(data_array)"
   ]
  },
  {
   "cell_type": "code",
   "execution_count": 10,
   "metadata": {
    "scrolled": true
   },
   "outputs": [
    {
     "data": {
      "text/html": [
       "<div>\n",
       "<style scoped>\n",
       "    .dataframe tbody tr th:only-of-type {\n",
       "        vertical-align: middle;\n",
       "    }\n",
       "\n",
       "    .dataframe tbody tr th {\n",
       "        vertical-align: top;\n",
       "    }\n",
       "\n",
       "    .dataframe thead th {\n",
       "        text-align: right;\n",
       "    }\n",
       "</style>\n",
       "<table border=\"1\" class=\"dataframe\">\n",
       "  <thead>\n",
       "    <tr style=\"text-align: right;\">\n",
       "      <th></th>\n",
       "      <th>0</th>\n",
       "      <th>1</th>\n",
       "    </tr>\n",
       "  </thead>\n",
       "  <tbody>\n",
       "    <tr>\n",
       "      <td>0</td>\n",
       "      <td>gs://rdc-automl-catsvsdogs/dog/dog.0.jpg</td>\n",
       "      <td>dog</td>\n",
       "    </tr>\n",
       "    <tr>\n",
       "      <td>1</td>\n",
       "      <td>gs://rdc-automl-catsvsdogs/dog/dog.1.jpg</td>\n",
       "      <td>dog</td>\n",
       "    </tr>\n",
       "    <tr>\n",
       "      <td>2</td>\n",
       "      <td>gs://rdc-automl-catsvsdogs/dog/dog.10.jpg</td>\n",
       "      <td>dog</td>\n",
       "    </tr>\n",
       "    <tr>\n",
       "      <td>3</td>\n",
       "      <td>gs://rdc-automl-catsvsdogs/dog/dog.100.jpg</td>\n",
       "      <td>dog</td>\n",
       "    </tr>\n",
       "    <tr>\n",
       "      <td>4</td>\n",
       "      <td>gs://rdc-automl-catsvsdogs/dog/dog.1000.jpg</td>\n",
       "      <td>dog</td>\n",
       "    </tr>\n",
       "    <tr>\n",
       "      <td>...</td>\n",
       "      <td>...</td>\n",
       "      <td>...</td>\n",
       "    </tr>\n",
       "    <tr>\n",
       "      <td>24995</td>\n",
       "      <td>gs://rdc-automl-catsvsdogs/cat/cat.9995.jpg</td>\n",
       "      <td>cat</td>\n",
       "    </tr>\n",
       "    <tr>\n",
       "      <td>24996</td>\n",
       "      <td>gs://rdc-automl-catsvsdogs/cat/cat.9996.jpg</td>\n",
       "      <td>cat</td>\n",
       "    </tr>\n",
       "    <tr>\n",
       "      <td>24997</td>\n",
       "      <td>gs://rdc-automl-catsvsdogs/cat/cat.9997.jpg</td>\n",
       "      <td>cat</td>\n",
       "    </tr>\n",
       "    <tr>\n",
       "      <td>24998</td>\n",
       "      <td>gs://rdc-automl-catsvsdogs/cat/cat.9998.jpg</td>\n",
       "      <td>cat</td>\n",
       "    </tr>\n",
       "    <tr>\n",
       "      <td>24999</td>\n",
       "      <td>gs://rdc-automl-catsvsdogs/cat/cat.9999.jpg</td>\n",
       "      <td>cat</td>\n",
       "    </tr>\n",
       "  </tbody>\n",
       "</table>\n",
       "<p>25000 rows × 2 columns</p>\n",
       "</div>"
      ],
      "text/plain": [
       "                                                 0    1\n",
       "0         gs://rdc-automl-catsvsdogs/dog/dog.0.jpg  dog\n",
       "1         gs://rdc-automl-catsvsdogs/dog/dog.1.jpg  dog\n",
       "2        gs://rdc-automl-catsvsdogs/dog/dog.10.jpg  dog\n",
       "3       gs://rdc-automl-catsvsdogs/dog/dog.100.jpg  dog\n",
       "4      gs://rdc-automl-catsvsdogs/dog/dog.1000.jpg  dog\n",
       "...                                            ...  ...\n",
       "24995  gs://rdc-automl-catsvsdogs/cat/cat.9995.jpg  cat\n",
       "24996  gs://rdc-automl-catsvsdogs/cat/cat.9996.jpg  cat\n",
       "24997  gs://rdc-automl-catsvsdogs/cat/cat.9997.jpg  cat\n",
       "24998  gs://rdc-automl-catsvsdogs/cat/cat.9998.jpg  cat\n",
       "24999  gs://rdc-automl-catsvsdogs/cat/cat.9999.jpg  cat\n",
       "\n",
       "[25000 rows x 2 columns]"
      ]
     },
     "execution_count": 10,
     "metadata": {},
     "output_type": "execute_result"
    }
   ],
   "source": [
    "dataframe"
   ]
  },
  {
   "cell_type": "code",
   "execution_count": 11,
   "metadata": {},
   "outputs": [],
   "source": [
    "dataframe.to_csv('all_data.csv', index=False, header=False)"
   ]
  }
 ],
 "metadata": {
  "kernelspec": {
   "display_name": "Python 3",
   "language": "python",
   "name": "python3"
  },
  "language_info": {
   "codemirror_mode": {
    "name": "ipython",
    "version": 3
   },
   "file_extension": ".py",
   "mimetype": "text/x-python",
   "name": "python",
   "nbconvert_exporter": "python",
   "pygments_lexer": "ipython3",
   "version": "3.7.4"
  }
 },
 "nbformat": 4,
 "nbformat_minor": 2
}
