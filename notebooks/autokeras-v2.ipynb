{
 "cells": [
  {
   "cell_type": "markdown",
   "metadata": {},
   "source": [
    "# AutoKeras implementation \n",
    "\n",
    "This notebook uses Autokeras, an automated machine learning library built upon Tensorflow and Keras. The goal of AutoKeras is to make machine learning accessible for everyone.\n",
    "\n",
    "This example takes a real-life dataset [dogs vs cat](https://www.kaggle.com/c/dogs-vs-cats/data) and tries to train a well working image classifier without a user who decides which layers to use.\n",
    "\n",
    "Please make sure that your driver configuration is correct (using Nvidia CUDA and cuDNN) and that the library makes its calculations on a GPU. Note that this code is written for AutoKeras v1.0.2 and may be updated for future versions.\n",
    "\n",
    "Sources: Data Science with Python, Rohan Chopra and Aaron England; "
   ]
  },
  {
   "cell_type": "markdown",
   "metadata": {},
   "source": [
    "## Global imports and declarations"
   ]
  },
  {
   "cell_type": "code",
   "execution_count": 50,
   "metadata": {},
   "outputs": [],
   "source": [
    "import pandas as pd\n",
    "import numpy as np\n",
    "\n",
    "SIZE=64\n",
    "OUTPUT_NAME=\"autokeras-model-5\""
   ]
  },
  {
   "cell_type": "markdown",
   "metadata": {},
   "source": [
    "## Verify GPU status"
   ]
  },
  {
   "cell_type": "code",
   "execution_count": 70,
   "metadata": {},
   "outputs": [],
   "source": [
    "# Use the Keras GPU package\n",
    "# conda install -c anaconda keras-gpu\n",
    "from tensorflow.python.client import device_lib"
   ]
  },
  {
   "cell_type": "code",
   "execution_count": 71,
   "metadata": {},
   "outputs": [
    {
     "name": "stdout",
     "output_type": "stream",
     "text": [
      "[name: \"/device:CPU:0\"\n",
      "device_type: \"CPU\"\n",
      "memory_limit: 268435456\n",
      "locality {\n",
      "}\n",
      "incarnation: 7502211016056982511\n",
      ", name: \"/device:GPU:0\"\n",
      "device_type: \"GPU\"\n",
      "memory_limit: 3142752665\n",
      "locality {\n",
      "  bus_id: 1\n",
      "  links {\n",
      "  }\n",
      "}\n",
      "incarnation: 12990106037986299612\n",
      "physical_device_desc: \"device: 0, name: GeForce GTX 1050, pci bus id: 0000:01:00.0, compute capability: 6.1\"\n",
      "]\n"
     ]
    }
   ],
   "source": [
    "# Show detailed information about the usable devices for Tensoflow\n",
    "print(device_lib.list_local_devices())"
   ]
  },
  {
   "cell_type": "code",
   "execution_count": 72,
   "metadata": {},
   "outputs": [
    {
     "name": "stdout",
     "output_type": "stream",
     "text": [
      "['/device:CPU:0', '/device:GPU:0']\n"
     ]
    }
   ],
   "source": [
    "# Only request device names\n",
    "def get_available_devices():\n",
    "    local_device_protos = device_lib.list_local_devices()\n",
    "    return [x.name for x in local_device_protos]\n",
    "print(get_available_devices()) "
   ]
  },
  {
   "cell_type": "markdown",
   "metadata": {},
   "source": [
    "## Shuffle data and convert to numpy array"
   ]
  },
  {
   "cell_type": "code",
   "execution_count": 18,
   "metadata": {},
   "outputs": [],
   "source": [
    "import os\n",
    "from tqdm import tqdm\n",
    "from PIL import Image\n",
    "from random import shuffle\n",
    "\n",
    "INPUT_PATH=\"data/train/\""
   ]
  },
  {
   "cell_type": "code",
   "execution_count": 20,
   "metadata": {},
   "outputs": [],
   "source": [
    "def get_label(file):\n",
    "    class_label = file.split('.')[0]\n",
    "    if class_label == 'dog': label_vector = 0\n",
    "    elif class_label == 'cat': label_vector = 1\n",
    "    return label_vector"
   ]
  },
  {
   "cell_type": "code",
   "execution_count": 21,
   "metadata": {},
   "outputs": [],
   "source": [
    "def get_data():\n",
    "    data = []\n",
    "    files = os.listdir(INPUT_PATH)\n",
    "    for image in tqdm(files):\n",
    "        \n",
    "        label_vector = get_label(image)\n",
    "\n",
    "        img = Image.open(INPUT_PATH + image).convert('L')\n",
    "        img = img.resize((SIZE,SIZE))\n",
    "        \n",
    "        data.append([np.asarray(img),np.array(label_vector)])\n",
    "        \n",
    "    shuffle(data)\n",
    "    return data"
   ]
  },
  {
   "cell_type": "code",
   "execution_count": 22,
   "metadata": {
    "scrolled": true
   },
   "outputs": [
    {
     "name": "stderr",
     "output_type": "stream",
     "text": [
      "100%|███████████████████████████████████████████████████████████████████████████| 25000/25000 [01:54<00:00, 217.91it/s]\n"
     ]
    }
   ],
   "source": [
    "data = get_data()"
   ]
  },
  {
   "cell_type": "code",
   "execution_count": 23,
   "metadata": {},
   "outputs": [],
   "source": [
    "# Save the data as a numpy array\n",
    "np.save('data/images_shuffled.npy', data)"
   ]
  },
  {
   "cell_type": "markdown",
   "metadata": {},
   "source": [
    "## Data preprocessing and split to test and train"
   ]
  },
  {
   "cell_type": "code",
   "execution_count": 25,
   "metadata": {},
   "outputs": [
    {
     "name": "stdout",
     "output_type": "stream",
     "text": [
      "Training dataset contains 20000 items\n",
      "Testing dataset contains 5000 items\n"
     ]
    }
   ],
   "source": [
    "data = np.load('data/images_shuffled.npy', allow_pickle=True)\n",
    "\n",
    "# Split the labled data in train (20000 images) and test (5000 images)\n",
    "train = data[:20000]\n",
    "test = data[20000:]\n",
    "\n",
    "print(\"Training dataset contains %d items\" % len(train))\n",
    "print(\"Testing dataset contains %d items\" % len(test))"
   ]
  },
  {
   "cell_type": "code",
   "execution_count": 26,
   "metadata": {},
   "outputs": [],
   "source": [
    "x_train = np.array([data[0] for data in train], 'float32')\n",
    "x_test = np.array([data[0] for data in test], 'float32')\n",
    "y_train = [data[1] for data in train]\n",
    "y_test = [data[1] for data in test]"
   ]
  },
  {
   "cell_type": "code",
   "execution_count": 27,
   "metadata": {},
   "outputs": [
    {
     "name": "stdout",
     "output_type": "stream",
     "text": [
      "(20000, 64, 64, 1)\n",
      "(20000,)\n",
      "(5000, 64, 64, 1)\n",
      "(5000,)\n"
     ]
    }
   ],
   "source": [
    "x_train = np.array(x_train).reshape(-1,SIZE,SIZE,1)\n",
    "x_test = np.array(x_test).reshape(-1,SIZE,SIZE,1)\n",
    "\n",
    "x_train /= 255\n",
    "x_test /= 255\n",
    "\n",
    "y_train = np.array(y_train)\n",
    "y_test = np.array(y_test)\n",
    "\n",
    "print(x_train.shape)\n",
    "print(y_train.shape)\n",
    "print(x_test.shape)\n",
    "print(y_test.shape)"
   ]
  },
  {
   "cell_type": "markdown",
   "metadata": {},
   "source": [
    "## Training and model evaluation"
   ]
  },
  {
   "cell_type": "code",
   "execution_count": 51,
   "metadata": {},
   "outputs": [],
   "source": [
    "import autokeras as ak\n",
    "\n",
    "MAX_TRIES=5"
   ]
  },
  {
   "cell_type": "code",
   "execution_count": 52,
   "metadata": {
    "scrolled": true
   },
   "outputs": [
    {
     "name": "stdout",
     "output_type": "stream",
     "text": [
      "Train for 500 steps, validate for 125 steps\n",
      "Epoch 1/1000\n",
      "500/500 - 28s - loss: 0.6016 - accuracy: 0.6668 - val_loss: 0.5483 - val_accuracy: 0.7207\n",
      "Epoch 2/1000\n",
      "500/500 - 28s - loss: 0.5064 - accuracy: 0.7564 - val_loss: 0.5351 - val_accuracy: 0.7322\n",
      "Epoch 3/1000\n",
      "500/500 - 27s - loss: 0.4621 - accuracy: 0.7840 - val_loss: 0.5034 - val_accuracy: 0.7607\n",
      "Epoch 4/1000\n",
      "500/500 - 27s - loss: 0.4289 - accuracy: 0.8006 - val_loss: 0.5038 - val_accuracy: 0.7582\n",
      "Epoch 5/1000\n",
      "500/500 - 27s - loss: 0.4018 - accuracy: 0.8158 - val_loss: 0.5020 - val_accuracy: 0.7610\n",
      "Epoch 6/1000\n",
      "500/500 - 27s - loss: 0.3663 - accuracy: 0.8346 - val_loss: 0.5098 - val_accuracy: 0.7660\n",
      "Epoch 7/1000\n",
      "500/500 - 27s - loss: 0.3511 - accuracy: 0.8413 - val_loss: 0.5257 - val_accuracy: 0.7567\n",
      "Epoch 8/1000\n",
      "500/500 - 27s - loss: 0.3288 - accuracy: 0.8563 - val_loss: 0.5029 - val_accuracy: 0.7765\n",
      "Epoch 9/1000\n",
      "500/500 - 27s - loss: 0.3112 - accuracy: 0.8633 - val_loss: 0.4967 - val_accuracy: 0.7832\n",
      "Epoch 10/1000\n",
      "500/500 - 27s - loss: 0.2965 - accuracy: 0.8707 - val_loss: 0.5426 - val_accuracy: 0.7707\n",
      "Epoch 11/1000\n",
      "500/500 - 27s - loss: 0.2803 - accuracy: 0.8776 - val_loss: 0.5026 - val_accuracy: 0.7912\n",
      "Epoch 12/1000\n",
      "500/500 - 27s - loss: 0.2716 - accuracy: 0.8838 - val_loss: 0.5071 - val_accuracy: 0.7843\n",
      "Epoch 13/1000\n",
      "500/500 - 27s - loss: 0.2637 - accuracy: 0.8882 - val_loss: 0.5567 - val_accuracy: 0.7795\n",
      "Epoch 14/1000\n",
      "500/500 - 27s - loss: 0.2521 - accuracy: 0.8921 - val_loss: 0.5326 - val_accuracy: 0.7820\n",
      "Epoch 15/1000\n",
      "500/500 - 27s - loss: 0.2426 - accuracy: 0.8975 - val_loss: 0.5232 - val_accuracy: 0.7945\n",
      "Epoch 16/1000\n",
      "500/500 - 27s - loss: 0.2367 - accuracy: 0.8986 - val_loss: 0.5236 - val_accuracy: 0.7900\n",
      "Epoch 17/1000\n",
      "500/500 - 27s - loss: 0.2295 - accuracy: 0.9036 - val_loss: 0.5530 - val_accuracy: 0.7943\n",
      "Epoch 18/1000\n",
      "500/500 - 27s - loss: 0.2274 - accuracy: 0.9081 - val_loss: 0.5450 - val_accuracy: 0.7822\n",
      "Epoch 19/1000\n",
      "500/500 - 27s - loss: 0.2244 - accuracy: 0.9042 - val_loss: 0.5928 - val_accuracy: 0.7772\n"
     ]
    },
    {
     "data": {
      "text/html": [
       "<span style=\"color:#4527A0\"><h1 style=\"font-size:18px\">Trial complete</h1></span>"
      ],
      "text/plain": [
       "<IPython.core.display.HTML object>"
      ]
     },
     "metadata": {},
     "output_type": "display_data"
    },
    {
     "data": {
      "text/html": [
       "<span style=\"color:#4527A0\"><h1 style=\"font-size:18px\">Trial summary</h1></span>"
      ],
      "text/plain": [
       "<IPython.core.display.HTML object>"
      ]
     },
     "metadata": {},
     "output_type": "display_data"
    },
    {
     "data": {
      "text/html": [
       "<span style=\"color:cyan\"> |-Trial ID: 304b4453a978f52f5cb39f40144a3d39</span>"
      ],
      "text/plain": [
       "<IPython.core.display.HTML object>"
      ]
     },
     "metadata": {},
     "output_type": "display_data"
    },
    {
     "data": {
      "text/html": [
       "<span style=\"color:cyan\"> |-Score: 0.4967047072649002</span>"
      ],
      "text/plain": [
       "<IPython.core.display.HTML object>"
      ]
     },
     "metadata": {},
     "output_type": "display_data"
    },
    {
     "data": {
      "text/html": [
       "<span style=\"color:cyan\"> |-Best step: 0</span>"
      ],
      "text/plain": [
       "<IPython.core.display.HTML object>"
      ]
     },
     "metadata": {},
     "output_type": "display_data"
    },
    {
     "data": {
      "text/html": [
       "<span style=\"color:#7E57C2\"><h2 style=\"font-size:16px\">Hyperparameters:</h2></span>"
      ],
      "text/plain": [
       "<IPython.core.display.HTML object>"
      ]
     },
     "metadata": {},
     "output_type": "display_data"
    },
    {
     "data": {
      "text/html": [
       "<span style=\"color:cyan\"> |-classification_head_1/dropout_rate: 0.5</span>"
      ],
      "text/plain": [
       "<IPython.core.display.HTML object>"
      ]
     },
     "metadata": {},
     "output_type": "display_data"
    },
    {
     "data": {
      "text/html": [
       "<span style=\"color:blue\"> |-classification_head_1/spatial_reduction_1/reduction_type: flatten</span>"
      ],
      "text/plain": [
       "<IPython.core.display.HTML object>"
      ]
     },
     "metadata": {},
     "output_type": "display_data"
    },
    {
     "data": {
      "text/html": [
       "<span style=\"color:cyan\"> |-dense_block_1/dropout_rate: 0</span>"
      ],
      "text/plain": [
       "<IPython.core.display.HTML object>"
      ]
     },
     "metadata": {},
     "output_type": "display_data"
    },
    {
     "data": {
      "text/html": [
       "<span style=\"color:blue\"> |-dense_block_1/num_layers: 1</span>"
      ],
      "text/plain": [
       "<IPython.core.display.HTML object>"
      ]
     },
     "metadata": {},
     "output_type": "display_data"
    },
    {
     "data": {
      "text/html": [
       "<span style=\"color:cyan\"> |-dense_block_1/units_0: 128</span>"
      ],
      "text/plain": [
       "<IPython.core.display.HTML object>"
      ]
     },
     "metadata": {},
     "output_type": "display_data"
    },
    {
     "data": {
      "text/html": [
       "<span style=\"color:blue\"> |-dense_block_1/use_batchnorm: False</span>"
      ],
      "text/plain": [
       "<IPython.core.display.HTML object>"
      ]
     },
     "metadata": {},
     "output_type": "display_data"
    },
    {
     "data": {
      "text/html": [
       "<span style=\"color:cyan\"> |-image_block_1/augment: False</span>"
      ],
      "text/plain": [
       "<IPython.core.display.HTML object>"
      ]
     },
     "metadata": {},
     "output_type": "display_data"
    },
    {
     "data": {
      "text/html": [
       "<span style=\"color:blue\"> |-image_block_1/block_type: vanilla</span>"
      ],
      "text/plain": [
       "<IPython.core.display.HTML object>"
      ]
     },
     "metadata": {},
     "output_type": "display_data"
    },
    {
     "data": {
      "text/html": [
       "<span style=\"color:cyan\"> |-image_block_1/conv_block_1/dropout_rate: 0.25</span>"
      ],
      "text/plain": [
       "<IPython.core.display.HTML object>"
      ]
     },
     "metadata": {},
     "output_type": "display_data"
    },
    {
     "data": {
      "text/html": [
       "<span style=\"color:blue\"> |-image_block_1/conv_block_1/filters_0_0: 32</span>"
      ],
      "text/plain": [
       "<IPython.core.display.HTML object>"
      ]
     },
     "metadata": {},
     "output_type": "display_data"
    },
    {
     "data": {
      "text/html": [
       "<span style=\"color:cyan\"> |-image_block_1/conv_block_1/filters_0_1: 64</span>"
      ],
      "text/plain": [
       "<IPython.core.display.HTML object>"
      ]
     },
     "metadata": {},
     "output_type": "display_data"
    },
    {
     "data": {
      "text/html": [
       "<span style=\"color:blue\"> |-image_block_1/conv_block_1/kernel_size: 3</span>"
      ],
      "text/plain": [
       "<IPython.core.display.HTML object>"
      ]
     },
     "metadata": {},
     "output_type": "display_data"
    },
    {
     "data": {
      "text/html": [
       "<span style=\"color:cyan\"> |-image_block_1/conv_block_1/max_pooling: True</span>"
      ],
      "text/plain": [
       "<IPython.core.display.HTML object>"
      ]
     },
     "metadata": {},
     "output_type": "display_data"
    },
    {
     "data": {
      "text/html": [
       "<span style=\"color:blue\"> |-image_block_1/conv_block_1/num_blocks: 1</span>"
      ],
      "text/plain": [
       "<IPython.core.display.HTML object>"
      ]
     },
     "metadata": {},
     "output_type": "display_data"
    },
    {
     "data": {
      "text/html": [
       "<span style=\"color:cyan\"> |-image_block_1/conv_block_1/num_layers: 2</span>"
      ],
      "text/plain": [
       "<IPython.core.display.HTML object>"
      ]
     },
     "metadata": {},
     "output_type": "display_data"
    },
    {
     "data": {
      "text/html": [
       "<span style=\"color:blue\"> |-image_block_1/conv_block_1/separable: False</span>"
      ],
      "text/plain": [
       "<IPython.core.display.HTML object>"
      ]
     },
     "metadata": {},
     "output_type": "display_data"
    },
    {
     "data": {
      "text/html": [
       "<span style=\"color:cyan\"> |-image_block_1/normalize: True</span>"
      ],
      "text/plain": [
       "<IPython.core.display.HTML object>"
      ]
     },
     "metadata": {},
     "output_type": "display_data"
    },
    {
     "data": {
      "text/html": [
       "<span style=\"color:blue\"> |-optimizer: adam</span>"
      ],
      "text/plain": [
       "<IPython.core.display.HTML object>"
      ]
     },
     "metadata": {},
     "output_type": "display_data"
    },
    {
     "name": "stdout",
     "output_type": "stream",
     "text": [
      "Train for 500 steps, validate for 125 steps\n",
      "Epoch 1/1000\n",
      "500/500 - 178s - loss: 0.6399 - accuracy: 0.6503 - val_loss: 0.5847 - val_accuracy: 0.6895\n",
      "Epoch 2/1000\n",
      "500/500 - 167s - loss: 0.5217 - accuracy: 0.7430 - val_loss: 0.5366 - val_accuracy: 0.7410\n",
      "Epoch 3/1000\n",
      "500/500 - 165s - loss: 0.4400 - accuracy: 0.7972 - val_loss: 0.7213 - val_accuracy: 0.7057\n",
      "Epoch 4/1000\n",
      "500/500 - 165s - loss: 0.3858 - accuracy: 0.8279 - val_loss: 0.5878 - val_accuracy: 0.7480\n",
      "Epoch 5/1000\n",
      "500/500 - 165s - loss: 0.3304 - accuracy: 0.8525 - val_loss: 0.5619 - val_accuracy: 0.7607\n",
      "Epoch 6/1000\n",
      "500/500 - 165s - loss: 0.2799 - accuracy: 0.8794 - val_loss: 0.6487 - val_accuracy: 0.7665\n",
      "Epoch 7/1000\n",
      "500/500 - 165s - loss: 0.2444 - accuracy: 0.8967 - val_loss: 0.6413 - val_accuracy: 0.7837\n",
      "Epoch 8/1000\n",
      "500/500 - 167s - loss: 0.2023 - accuracy: 0.9176 - val_loss: 0.6258 - val_accuracy: 0.7925\n",
      "Epoch 9/1000\n",
      "500/500 - 165s - loss: 0.1662 - accuracy: 0.9298 - val_loss: 0.6409 - val_accuracy: 0.7900\n",
      "Epoch 10/1000\n",
      "500/500 - 164s - loss: 0.1444 - accuracy: 0.9419 - val_loss: 0.6625 - val_accuracy: 0.7822\n",
      "Epoch 11/1000\n",
      "500/500 - 166s - loss: 0.1166 - accuracy: 0.9557 - val_loss: 0.7483 - val_accuracy: 0.7820\n",
      "Epoch 12/1000\n",
      "500/500 - 166s - loss: 0.1006 - accuracy: 0.9613 - val_loss: 0.8194 - val_accuracy: 0.7865\n"
     ]
    },
    {
     "data": {
      "text/html": [
       "<span style=\"color:#4527A0\"><h1 style=\"font-size:18px\">Trial complete</h1></span>"
      ],
      "text/plain": [
       "<IPython.core.display.HTML object>"
      ]
     },
     "metadata": {},
     "output_type": "display_data"
    },
    {
     "data": {
      "text/html": [
       "<span style=\"color:#4527A0\"><h1 style=\"font-size:18px\">Trial summary</h1></span>"
      ],
      "text/plain": [
       "<IPython.core.display.HTML object>"
      ]
     },
     "metadata": {},
     "output_type": "display_data"
    },
    {
     "data": {
      "text/html": [
       "<span style=\"color:cyan\"> |-Trial ID: 49512d0b06ff88aaadef55ee82ca989c</span>"
      ],
      "text/plain": [
       "<IPython.core.display.HTML object>"
      ]
     },
     "metadata": {},
     "output_type": "display_data"
    },
    {
     "data": {
      "text/html": [
       "<span style=\"color:cyan\"> |-Score: 0.5365947544574737</span>"
      ],
      "text/plain": [
       "<IPython.core.display.HTML object>"
      ]
     },
     "metadata": {},
     "output_type": "display_data"
    },
    {
     "data": {
      "text/html": [
       "<span style=\"color:cyan\"> |-Best step: 0</span>"
      ],
      "text/plain": [
       "<IPython.core.display.HTML object>"
      ]
     },
     "metadata": {},
     "output_type": "display_data"
    },
    {
     "data": {
      "text/html": [
       "<span style=\"color:#7E57C2\"><h2 style=\"font-size:16px\">Hyperparameters:</h2></span>"
      ],
      "text/plain": [
       "<IPython.core.display.HTML object>"
      ]
     },
     "metadata": {},
     "output_type": "display_data"
    },
    {
     "data": {
      "text/html": [
       "<span style=\"color:cyan\"> |-classification_head_1/dropout_rate: 0</span>"
      ],
      "text/plain": [
       "<IPython.core.display.HTML object>"
      ]
     },
     "metadata": {},
     "output_type": "display_data"
    },
    {
     "data": {
      "text/html": [
       "<span style=\"color:blue\"> |-dense_block_1/dropout_rate: 0</span>"
      ],
      "text/plain": [
       "<IPython.core.display.HTML object>"
      ]
     },
     "metadata": {},
     "output_type": "display_data"
    },
    {
     "data": {
      "text/html": [
       "<span style=\"color:cyan\"> |-dense_block_1/num_layers: 2</span>"
      ],
      "text/plain": [
       "<IPython.core.display.HTML object>"
      ]
     },
     "metadata": {},
     "output_type": "display_data"
    },
    {
     "data": {
      "text/html": [
       "<span style=\"color:blue\"> |-dense_block_1/units_0: 32</span>"
      ],
      "text/plain": [
       "<IPython.core.display.HTML object>"
      ]
     },
     "metadata": {},
     "output_type": "display_data"
    },
    {
     "data": {
      "text/html": [
       "<span style=\"color:cyan\"> |-dense_block_1/units_1: 32</span>"
      ],
      "text/plain": [
       "<IPython.core.display.HTML object>"
      ]
     },
     "metadata": {},
     "output_type": "display_data"
    },
    {
     "data": {
      "text/html": [
       "<span style=\"color:blue\"> |-dense_block_1/use_batchnorm: False</span>"
      ],
      "text/plain": [
       "<IPython.core.display.HTML object>"
      ]
     },
     "metadata": {},
     "output_type": "display_data"
    },
    {
     "data": {
      "text/html": [
       "<span style=\"color:cyan\"> |-image_block_1/augment: True</span>"
      ],
      "text/plain": [
       "<IPython.core.display.HTML object>"
      ]
     },
     "metadata": {},
     "output_type": "display_data"
    },
    {
     "data": {
      "text/html": [
       "<span style=\"color:blue\"> |-image_block_1/block_type: resnet</span>"
      ],
      "text/plain": [
       "<IPython.core.display.HTML object>"
      ]
     },
     "metadata": {},
     "output_type": "display_data"
    },
    {
     "data": {
      "text/html": [
       "<span style=\"color:cyan\"> |-image_block_1/normalize: True</span>"
      ],
      "text/plain": [
       "<IPython.core.display.HTML object>"
      ]
     },
     "metadata": {},
     "output_type": "display_data"
    },
    {
     "data": {
      "text/html": [
       "<span style=\"color:blue\"> |-image_block_1/res_net_block_1/conv3_depth: 4</span>"
      ],
      "text/plain": [
       "<IPython.core.display.HTML object>"
      ]
     },
     "metadata": {},
     "output_type": "display_data"
    },
    {
     "data": {
      "text/html": [
       "<span style=\"color:cyan\"> |-image_block_1/res_net_block_1/conv4_depth: 6</span>"
      ],
      "text/plain": [
       "<IPython.core.display.HTML object>"
      ]
     },
     "metadata": {},
     "output_type": "display_data"
    },
    {
     "data": {
      "text/html": [
       "<span style=\"color:blue\"> |-image_block_1/res_net_block_1/pooling: avg</span>"
      ],
      "text/plain": [
       "<IPython.core.display.HTML object>"
      ]
     },
     "metadata": {},
     "output_type": "display_data"
    },
    {
     "data": {
      "text/html": [
       "<span style=\"color:cyan\"> |-image_block_1/res_net_block_1/version: v2</span>"
      ],
      "text/plain": [
       "<IPython.core.display.HTML object>"
      ]
     },
     "metadata": {},
     "output_type": "display_data"
    },
    {
     "data": {
      "text/html": [
       "<span style=\"color:blue\"> |-optimizer: adam</span>"
      ],
      "text/plain": [
       "<IPython.core.display.HTML object>"
      ]
     },
     "metadata": {},
     "output_type": "display_data"
    },
    {
     "name": "stdout",
     "output_type": "stream",
     "text": [
      "Train for 500 steps, validate for 125 steps\n",
      "Epoch 1/1000\n",
      "500/500 - 28s - loss: 0.6029 - accuracy: 0.6699 - val_loss: 0.5575 - val_accuracy: 0.7128\n",
      "Epoch 2/1000\n",
      "500/500 - 27s - loss: 0.5012 - accuracy: 0.7553 - val_loss: 0.5283 - val_accuracy: 0.7320\n",
      "Epoch 3/1000\n",
      "500/500 - 27s - loss: 0.4533 - accuracy: 0.7861 - val_loss: 0.5078 - val_accuracy: 0.7477\n",
      "Epoch 4/1000\n",
      "500/500 - 27s - loss: 0.4098 - accuracy: 0.8132 - val_loss: 0.4969 - val_accuracy: 0.7628\n",
      "Epoch 5/1000\n",
      "500/500 - 28s - loss: 0.3747 - accuracy: 0.8319 - val_loss: 0.4916 - val_accuracy: 0.7707\n",
      "Epoch 6/1000\n",
      "500/500 - 27s - loss: 0.3433 - accuracy: 0.8452 - val_loss: 0.5116 - val_accuracy: 0.7670\n",
      "Epoch 7/1000\n",
      "500/500 - 27s - loss: 0.3185 - accuracy: 0.8636 - val_loss: 0.5458 - val_accuracy: 0.7573\n",
      "Epoch 8/1000\n",
      "500/500 - 27s - loss: 0.3025 - accuracy: 0.8658 - val_loss: 0.5063 - val_accuracy: 0.7837\n",
      "Epoch 9/1000\n",
      "500/500 - 27s - loss: 0.2842 - accuracy: 0.8748 - val_loss: 0.5077 - val_accuracy: 0.7818\n",
      "Epoch 10/1000\n",
      "500/500 - 28s - loss: 0.2678 - accuracy: 0.8847 - val_loss: 0.5262 - val_accuracy: 0.7825\n",
      "Epoch 11/1000\n",
      "500/500 - 27s - loss: 0.2537 - accuracy: 0.8909 - val_loss: 0.5190 - val_accuracy: 0.7910\n",
      "Epoch 12/1000\n",
      "500/500 - 27s - loss: 0.2511 - accuracy: 0.8930 - val_loss: 0.5156 - val_accuracy: 0.7970\n",
      "Epoch 13/1000\n",
      "500/500 - 27s - loss: 0.2352 - accuracy: 0.8983 - val_loss: 0.5194 - val_accuracy: 0.7893\n",
      "Epoch 14/1000\n",
      "500/500 - 27s - loss: 0.2233 - accuracy: 0.9070 - val_loss: 0.5323 - val_accuracy: 0.7872\n",
      "Epoch 15/1000\n",
      "500/500 - 27s - loss: 0.2184 - accuracy: 0.9091 - val_loss: 0.5307 - val_accuracy: 0.7915\n"
     ]
    },
    {
     "data": {
      "text/html": [
       "<span style=\"color:#4527A0\"><h1 style=\"font-size:18px\">Trial complete</h1></span>"
      ],
      "text/plain": [
       "<IPython.core.display.HTML object>"
      ]
     },
     "metadata": {},
     "output_type": "display_data"
    },
    {
     "data": {
      "text/html": [
       "<span style=\"color:#4527A0\"><h1 style=\"font-size:18px\">Trial summary</h1></span>"
      ],
      "text/plain": [
       "<IPython.core.display.HTML object>"
      ]
     },
     "metadata": {},
     "output_type": "display_data"
    },
    {
     "data": {
      "text/html": [
       "<span style=\"color:cyan\"> |-Trial ID: ba4c0be35226e4894b677fd8c9905324</span>"
      ],
      "text/plain": [
       "<IPython.core.display.HTML object>"
      ]
     },
     "metadata": {},
     "output_type": "display_data"
    },
    {
     "data": {
      "text/html": [
       "<span style=\"color:cyan\"> |-Score: 0.4916130772829056</span>"
      ],
      "text/plain": [
       "<IPython.core.display.HTML object>"
      ]
     },
     "metadata": {},
     "output_type": "display_data"
    },
    {
     "data": {
      "text/html": [
       "<span style=\"color:cyan\"> |-Best step: 0</span>"
      ],
      "text/plain": [
       "<IPython.core.display.HTML object>"
      ]
     },
     "metadata": {},
     "output_type": "display_data"
    },
    {
     "data": {
      "text/html": [
       "<span style=\"color:#7E57C2\"><h2 style=\"font-size:16px\">Hyperparameters:</h2></span>"
      ],
      "text/plain": [
       "<IPython.core.display.HTML object>"
      ]
     },
     "metadata": {},
     "output_type": "display_data"
    },
    {
     "data": {
      "text/html": [
       "<span style=\"color:cyan\"> |-classification_head_1/dropout_rate: 0.5</span>"
      ],
      "text/plain": [
       "<IPython.core.display.HTML object>"
      ]
     },
     "metadata": {},
     "output_type": "display_data"
    },
    {
     "data": {
      "text/html": [
       "<span style=\"color:blue\"> |-classification_head_1/spatial_reduction_1/reduction_type: flatten</span>"
      ],
      "text/plain": [
       "<IPython.core.display.HTML object>"
      ]
     },
     "metadata": {},
     "output_type": "display_data"
    },
    {
     "data": {
      "text/html": [
       "<span style=\"color:cyan\"> |-dense_block_1/dropout_rate: 0</span>"
      ],
      "text/plain": [
       "<IPython.core.display.HTML object>"
      ]
     },
     "metadata": {},
     "output_type": "display_data"
    },
    {
     "data": {
      "text/html": [
       "<span style=\"color:blue\"> |-dense_block_1/num_layers: 1</span>"
      ],
      "text/plain": [
       "<IPython.core.display.HTML object>"
      ]
     },
     "metadata": {},
     "output_type": "display_data"
    },
    {
     "data": {
      "text/html": [
       "<span style=\"color:cyan\"> |-dense_block_1/units_0: 128</span>"
      ],
      "text/plain": [
       "<IPython.core.display.HTML object>"
      ]
     },
     "metadata": {},
     "output_type": "display_data"
    },
    {
     "data": {
      "text/html": [
       "<span style=\"color:blue\"> |-dense_block_1/use_batchnorm: False</span>"
      ],
      "text/plain": [
       "<IPython.core.display.HTML object>"
      ]
     },
     "metadata": {},
     "output_type": "display_data"
    },
    {
     "data": {
      "text/html": [
       "<span style=\"color:cyan\"> |-image_block_1/augment: False</span>"
      ],
      "text/plain": [
       "<IPython.core.display.HTML object>"
      ]
     },
     "metadata": {},
     "output_type": "display_data"
    },
    {
     "data": {
      "text/html": [
       "<span style=\"color:blue\"> |-image_block_1/block_type: vanilla</span>"
      ],
      "text/plain": [
       "<IPython.core.display.HTML object>"
      ]
     },
     "metadata": {},
     "output_type": "display_data"
    },
    {
     "data": {
      "text/html": [
       "<span style=\"color:cyan\"> |-image_block_1/conv_block_1/dropout_rate: 0.25</span>"
      ],
      "text/plain": [
       "<IPython.core.display.HTML object>"
      ]
     },
     "metadata": {},
     "output_type": "display_data"
    },
    {
     "data": {
      "text/html": [
       "<span style=\"color:blue\"> |-image_block_1/conv_block_1/filters_0_0: 32</span>"
      ],
      "text/plain": [
       "<IPython.core.display.HTML object>"
      ]
     },
     "metadata": {},
     "output_type": "display_data"
    },
    {
     "data": {
      "text/html": [
       "<span style=\"color:cyan\"> |-image_block_1/conv_block_1/filters_0_1: 64</span>"
      ],
      "text/plain": [
       "<IPython.core.display.HTML object>"
      ]
     },
     "metadata": {},
     "output_type": "display_data"
    },
    {
     "data": {
      "text/html": [
       "<span style=\"color:blue\"> |-image_block_1/conv_block_1/kernel_size: 3</span>"
      ],
      "text/plain": [
       "<IPython.core.display.HTML object>"
      ]
     },
     "metadata": {},
     "output_type": "display_data"
    },
    {
     "data": {
      "text/html": [
       "<span style=\"color:cyan\"> |-image_block_1/conv_block_1/max_pooling: True</span>"
      ],
      "text/plain": [
       "<IPython.core.display.HTML object>"
      ]
     },
     "metadata": {},
     "output_type": "display_data"
    },
    {
     "data": {
      "text/html": [
       "<span style=\"color:blue\"> |-image_block_1/conv_block_1/num_blocks: 1</span>"
      ],
      "text/plain": [
       "<IPython.core.display.HTML object>"
      ]
     },
     "metadata": {},
     "output_type": "display_data"
    },
    {
     "data": {
      "text/html": [
       "<span style=\"color:cyan\"> |-image_block_1/conv_block_1/num_layers: 2</span>"
      ],
      "text/plain": [
       "<IPython.core.display.HTML object>"
      ]
     },
     "metadata": {},
     "output_type": "display_data"
    },
    {
     "data": {
      "text/html": [
       "<span style=\"color:blue\"> |-image_block_1/conv_block_1/separable: False</span>"
      ],
      "text/plain": [
       "<IPython.core.display.HTML object>"
      ]
     },
     "metadata": {},
     "output_type": "display_data"
    },
    {
     "data": {
      "text/html": [
       "<span style=\"color:cyan\"> |-image_block_1/normalize: True</span>"
      ],
      "text/plain": [
       "<IPython.core.display.HTML object>"
      ]
     },
     "metadata": {},
     "output_type": "display_data"
    },
    {
     "data": {
      "text/html": [
       "<span style=\"color:blue\"> |-optimizer: adam</span>"
      ],
      "text/plain": [
       "<IPython.core.display.HTML object>"
      ]
     },
     "metadata": {},
     "output_type": "display_data"
    },
    {
     "name": "stdout",
     "output_type": "stream",
     "text": [
      "INFO:tensorflow:Oracle triggered exit\n",
      "Train for 625 steps, validate for 125 steps\n",
      "Epoch 1/1000\n",
      "625/625 - 35s - loss: 0.5804 - accuracy: 0.6884 - val_loss: 0.4466 - val_accuracy: 0.8117\n",
      "Epoch 2/1000\n",
      "625/625 - 34s - loss: 0.4795 - accuracy: 0.7715 - val_loss: 0.3827 - val_accuracy: 0.8512\n",
      "Epoch 3/1000\n",
      "625/625 - 34s - loss: 0.4321 - accuracy: 0.8007 - val_loss: 0.3196 - val_accuracy: 0.8848\n",
      "Epoch 4/1000\n",
      "625/625 - 34s - loss: 0.3999 - accuracy: 0.8203 - val_loss: 0.2811 - val_accuracy: 0.9032\n",
      "Epoch 5/1000\n",
      "625/625 - 34s - loss: 0.3715 - accuracy: 0.8321 - val_loss: 0.2491 - val_accuracy: 0.9208\n",
      "Epoch 6/1000\n",
      "625/625 - 34s - loss: 0.3521 - accuracy: 0.8443 - val_loss: 0.2241 - val_accuracy: 0.9258\n",
      "Epoch 7/1000\n",
      "625/625 - 34s - loss: 0.3303 - accuracy: 0.8573 - val_loss: 0.2112 - val_accuracy: 0.9348\n",
      "Epoch 8/1000\n",
      "625/625 - 34s - loss: 0.3147 - accuracy: 0.8624 - val_loss: 0.2230 - val_accuracy: 0.9200\n",
      "Epoch 9/1000\n",
      "625/625 - 34s - loss: 0.2972 - accuracy: 0.8724 - val_loss: 0.1664 - val_accuracy: 0.9542\n",
      "Epoch 10/1000\n",
      "625/625 - 34s - loss: 0.2854 - accuracy: 0.8775 - val_loss: 0.1527 - val_accuracy: 0.9510\n",
      "Epoch 11/1000\n",
      "625/625 - 34s - loss: 0.2687 - accuracy: 0.8836 - val_loss: 0.1368 - val_accuracy: 0.9643\n",
      "Epoch 12/1000\n",
      "625/625 - 34s - loss: 0.2571 - accuracy: 0.8902 - val_loss: 0.1199 - val_accuracy: 0.9730\n",
      "Epoch 13/1000\n",
      "625/625 - 34s - loss: 0.2484 - accuracy: 0.8967 - val_loss: 0.1161 - val_accuracy: 0.9747\n",
      "Epoch 14/1000\n",
      "625/625 - 34s - loss: 0.2419 - accuracy: 0.8986 - val_loss: 0.1132 - val_accuracy: 0.9710\n",
      "Epoch 15/1000\n",
      "625/625 - 34s - loss: 0.2343 - accuracy: 0.8997 - val_loss: 0.1144 - val_accuracy: 0.9710\n",
      "Epoch 16/1000\n",
      "625/625 - 34s - loss: 0.2328 - accuracy: 0.9045 - val_loss: 0.1358 - val_accuracy: 0.9553\n",
      "Epoch 17/1000\n",
      "625/625 - 34s - loss: 0.2219 - accuracy: 0.9060 - val_loss: 0.1287 - val_accuracy: 0.9580\n",
      "Epoch 18/1000\n",
      "625/625 - 34s - loss: 0.2145 - accuracy: 0.9085 - val_loss: 0.0958 - val_accuracy: 0.9743\n",
      "Epoch 19/1000\n",
      "625/625 - 34s - loss: 0.2108 - accuracy: 0.9129 - val_loss: 0.1019 - val_accuracy: 0.9750\n",
      "Epoch 20/1000\n",
      "625/625 - 34s - loss: 0.2086 - accuracy: 0.9139 - val_loss: 0.0895 - val_accuracy: 0.9770\n",
      "Epoch 21/1000\n",
      "625/625 - 34s - loss: 0.2006 - accuracy: 0.9172 - val_loss: 0.0682 - val_accuracy: 0.9880\n",
      "Epoch 22/1000\n",
      "625/625 - 34s - loss: 0.1921 - accuracy: 0.9212 - val_loss: 0.0870 - val_accuracy: 0.9760\n",
      "Epoch 23/1000\n",
      "625/625 - 34s - loss: 0.1925 - accuracy: 0.9194 - val_loss: 0.0616 - val_accuracy: 0.9887\n",
      "Epoch 24/1000\n",
      "625/625 - 34s - loss: 0.1929 - accuracy: 0.9215 - val_loss: 0.0634 - val_accuracy: 0.9875\n",
      "Epoch 25/1000\n",
      "625/625 - 34s - loss: 0.1872 - accuracy: 0.9248 - val_loss: 0.0534 - val_accuracy: 0.9930\n",
      "Epoch 26/1000\n",
      "625/625 - 34s - loss: 0.1808 - accuracy: 0.9252 - val_loss: 0.0621 - val_accuracy: 0.9865\n",
      "Epoch 27/1000\n",
      "625/625 - 34s - loss: 0.1810 - accuracy: 0.9276 - val_loss: 0.0545 - val_accuracy: 0.9910\n",
      "Epoch 28/1000\n",
      "625/625 - 34s - loss: 0.1778 - accuracy: 0.9267 - val_loss: 0.0629 - val_accuracy: 0.9843\n",
      "Epoch 29/1000\n",
      "625/625 - 34s - loss: 0.1802 - accuracy: 0.9265 - val_loss: 0.0579 - val_accuracy: 0.9875\n",
      "Epoch 30/1000\n",
      "625/625 - 34s - loss: 0.1705 - accuracy: 0.9324 - val_loss: 0.0429 - val_accuracy: 0.9952\n",
      "Epoch 31/1000\n",
      "625/625 - 34s - loss: 0.1726 - accuracy: 0.9287 - val_loss: 0.0533 - val_accuracy: 0.9912\n",
      "Epoch 32/1000\n",
      "625/625 - 34s - loss: 0.1710 - accuracy: 0.9334 - val_loss: 0.0513 - val_accuracy: 0.9933\n",
      "Epoch 33/1000\n",
      "625/625 - 34s - loss: 0.1664 - accuracy: 0.9347 - val_loss: 0.0404 - val_accuracy: 0.9948\n",
      "Epoch 34/1000\n",
      "625/625 - 34s - loss: 0.1615 - accuracy: 0.9346 - val_loss: 0.0462 - val_accuracy: 0.9900\n",
      "Epoch 35/1000\n",
      "625/625 - 34s - loss: 0.1728 - accuracy: 0.9327 - val_loss: 0.0404 - val_accuracy: 0.9960\n",
      "Epoch 36/1000\n",
      "625/625 - 34s - loss: 0.1611 - accuracy: 0.9360 - val_loss: 0.0349 - val_accuracy: 0.9942\n",
      "Epoch 37/1000\n",
      "625/625 - 34s - loss: 0.1563 - accuracy: 0.9373 - val_loss: 0.0368 - val_accuracy: 0.9948\n",
      "Epoch 38/1000\n",
      "625/625 - 34s - loss: 0.1597 - accuracy: 0.9352 - val_loss: 0.0343 - val_accuracy: 0.9935\n",
      "Epoch 39/1000\n",
      "625/625 - 34s - loss: 0.1549 - accuracy: 0.9374 - val_loss: 0.0383 - val_accuracy: 0.9930\n",
      "Epoch 40/1000\n",
      "625/625 - 34s - loss: 0.1541 - accuracy: 0.9369 - val_loss: 0.0327 - val_accuracy: 0.9973\n",
      "Epoch 41/1000\n",
      "625/625 - 34s - loss: 0.1529 - accuracy: 0.9406 - val_loss: 0.0314 - val_accuracy: 0.9965\n",
      "Epoch 42/1000\n",
      "625/625 - 34s - loss: 0.1564 - accuracy: 0.9385 - val_loss: 0.0288 - val_accuracy: 0.9975\n",
      "Epoch 43/1000\n",
      "625/625 - 34s - loss: 0.1466 - accuracy: 0.9444 - val_loss: 0.0315 - val_accuracy: 0.9962\n",
      "Epoch 44/1000\n",
      "625/625 - 34s - loss: 0.1452 - accuracy: 0.9431 - val_loss: 0.0321 - val_accuracy: 0.9950\n",
      "Epoch 45/1000\n",
      "625/625 - 34s - loss: 0.1439 - accuracy: 0.9437 - val_loss: 0.0259 - val_accuracy: 0.9958\n",
      "Epoch 46/1000\n",
      "625/625 - 34s - loss: 0.1452 - accuracy: 0.9434 - val_loss: 0.0348 - val_accuracy: 0.9930\n",
      "Epoch 47/1000\n",
      "625/625 - 34s - loss: 0.1481 - accuracy: 0.9401 - val_loss: 0.0259 - val_accuracy: 0.9960\n",
      "Epoch 48/1000\n",
      "625/625 - 34s - loss: 0.1465 - accuracy: 0.9431 - val_loss: 0.0265 - val_accuracy: 0.9973\n",
      "Epoch 49/1000\n",
      "625/625 - 34s - loss: 0.1413 - accuracy: 0.9446 - val_loss: 0.0288 - val_accuracy: 0.9940\n",
      "Epoch 50/1000\n",
      "625/625 - 34s - loss: 0.1419 - accuracy: 0.9433 - val_loss: 0.0265 - val_accuracy: 0.9958\n",
      "Epoch 51/1000\n",
      "625/625 - 34s - loss: 0.1451 - accuracy: 0.9452 - val_loss: 0.0257 - val_accuracy: 0.9952\n",
      "Epoch 52/1000\n",
      "625/625 - 34s - loss: 0.1383 - accuracy: 0.9461 - val_loss: 0.0246 - val_accuracy: 0.9967\n",
      "Epoch 53/1000\n",
      "625/625 - 34s - loss: 0.1369 - accuracy: 0.9466 - val_loss: 0.0309 - val_accuracy: 0.9935\n",
      "Epoch 54/1000\n",
      "625/625 - 34s - loss: 0.1398 - accuracy: 0.9476 - val_loss: 0.0276 - val_accuracy: 0.9970\n",
      "Epoch 55/1000\n",
      "625/625 - 34s - loss: 0.1404 - accuracy: 0.9463 - val_loss: 0.0194 - val_accuracy: 0.9977\n",
      "Epoch 56/1000\n",
      "625/625 - 34s - loss: 0.1394 - accuracy: 0.9474 - val_loss: 0.0277 - val_accuracy: 0.9980\n",
      "Epoch 57/1000\n",
      "625/625 - 34s - loss: 0.1372 - accuracy: 0.9468 - val_loss: 0.0217 - val_accuracy: 0.9977\n",
      "Epoch 58/1000\n",
      "625/625 - 33s - loss: 0.1342 - accuracy: 0.9473 - val_loss: 0.0213 - val_accuracy: 0.9973\n",
      "Epoch 59/1000\n",
      "625/625 - 33s - loss: 0.1255 - accuracy: 0.9528 - val_loss: 0.0219 - val_accuracy: 0.9977\n",
      "Epoch 60/1000\n",
      "625/625 - 34s - loss: 0.1282 - accuracy: 0.9505 - val_loss: 0.0243 - val_accuracy: 0.9958\n",
      "Epoch 61/1000\n",
      "625/625 - 33s - loss: 0.1295 - accuracy: 0.9505 - val_loss: 0.0194 - val_accuracy: 0.9983\n",
      "Epoch 62/1000\n",
      "625/625 - 34s - loss: 0.1326 - accuracy: 0.9485 - val_loss: 0.0180 - val_accuracy: 0.9985\n",
      "Epoch 63/1000\n",
      "625/625 - 34s - loss: 0.1329 - accuracy: 0.9502 - val_loss: 0.0197 - val_accuracy: 0.9975\n",
      "Epoch 64/1000\n",
      "625/625 - 34s - loss: 0.1257 - accuracy: 0.9510 - val_loss: 0.0189 - val_accuracy: 0.9985\n",
      "Epoch 65/1000\n",
      "625/625 - 33s - loss: 0.1358 - accuracy: 0.9484 - val_loss: 0.0167 - val_accuracy: 0.9977\n",
      "Epoch 66/1000\n",
      "625/625 - 33s - loss: 0.1244 - accuracy: 0.9518 - val_loss: 0.0193 - val_accuracy: 0.9975\n",
      "Epoch 67/1000\n",
      "625/625 - 34s - loss: 0.1218 - accuracy: 0.9529 - val_loss: 0.0187 - val_accuracy: 0.9962\n",
      "Epoch 68/1000\n",
      "625/625 - 34s - loss: 0.1228 - accuracy: 0.9525 - val_loss: 0.0146 - val_accuracy: 0.9990\n",
      "Epoch 69/1000\n",
      "625/625 - 34s - loss: 0.1263 - accuracy: 0.9514 - val_loss: 0.0210 - val_accuracy: 0.9965\n",
      "Epoch 70/1000\n",
      "625/625 - 34s - loss: 0.1323 - accuracy: 0.9487 - val_loss: 0.0170 - val_accuracy: 0.9987\n",
      "Epoch 71/1000\n",
      "625/625 - 34s - loss: 0.1281 - accuracy: 0.9502 - val_loss: 0.0172 - val_accuracy: 0.9987\n",
      "Epoch 72/1000\n",
      "625/625 - 34s - loss: 0.1225 - accuracy: 0.9527 - val_loss: 0.0149 - val_accuracy: 0.9992\n",
      "Epoch 73/1000\n",
      "625/625 - 34s - loss: 0.1165 - accuracy: 0.9553 - val_loss: 0.0177 - val_accuracy: 0.9980\n",
      "Epoch 74/1000\n",
      "625/625 - 34s - loss: 0.1273 - accuracy: 0.9518 - val_loss: 0.0157 - val_accuracy: 0.9998\n",
      "Epoch 75/1000\n",
      "625/625 - 34s - loss: 0.1272 - accuracy: 0.9514 - val_loss: 0.0175 - val_accuracy: 0.9980\n",
      "Epoch 76/1000\n",
      "625/625 - 33s - loss: 0.1193 - accuracy: 0.9538 - val_loss: 0.0160 - val_accuracy: 0.9987\n",
      "Epoch 77/1000\n",
      "625/625 - 34s - loss: 0.1193 - accuracy: 0.9532 - val_loss: 0.0137 - val_accuracy: 0.9987\n",
      "Epoch 78/1000\n",
      "625/625 - 34s - loss: 0.1218 - accuracy: 0.9527 - val_loss: 0.0128 - val_accuracy: 0.9990\n"
     ]
    },
    {
     "name": "stdout",
     "output_type": "stream",
     "text": [
      "Epoch 79/1000\n",
      "625/625 - 33s - loss: 0.1189 - accuracy: 0.9547 - val_loss: 0.0128 - val_accuracy: 0.9980\n",
      "Epoch 80/1000\n",
      "625/625 - 34s - loss: 0.1131 - accuracy: 0.9581 - val_loss: 0.0144 - val_accuracy: 0.9995\n",
      "Epoch 81/1000\n",
      "625/625 - 34s - loss: 0.1210 - accuracy: 0.9531 - val_loss: 0.0132 - val_accuracy: 0.9987\n",
      "Epoch 82/1000\n",
      "625/625 - 33s - loss: 0.1142 - accuracy: 0.9565 - val_loss: 0.0174 - val_accuracy: 0.9992\n",
      "Epoch 83/1000\n",
      "625/625 - 34s - loss: 0.1144 - accuracy: 0.9557 - val_loss: 0.0121 - val_accuracy: 0.9983\n",
      "Epoch 84/1000\n",
      "625/625 - 33s - loss: 0.1326 - accuracy: 0.9496 - val_loss: 0.0132 - val_accuracy: 0.9995\n",
      "Epoch 85/1000\n",
      "625/625 - 33s - loss: 0.1150 - accuracy: 0.9560 - val_loss: 0.0173 - val_accuracy: 0.9980\n",
      "Epoch 86/1000\n",
      "625/625 - 34s - loss: 0.1159 - accuracy: 0.9555 - val_loss: 0.0123 - val_accuracy: 0.9995\n",
      "Epoch 87/1000\n",
      "625/625 - 34s - loss: 0.1103 - accuracy: 0.9582 - val_loss: 0.0150 - val_accuracy: 0.9980\n",
      "Epoch 88/1000\n",
      "625/625 - 34s - loss: 0.1133 - accuracy: 0.9577 - val_loss: 0.0130 - val_accuracy: 0.9995\n",
      "Epoch 89/1000\n",
      "625/625 - 34s - loss: 0.1191 - accuracy: 0.9556 - val_loss: 0.0125 - val_accuracy: 0.9995\n",
      "Epoch 90/1000\n",
      "625/625 - 34s - loss: 0.1079 - accuracy: 0.9596 - val_loss: 0.0122 - val_accuracy: 0.9998\n",
      "Epoch 91/1000\n",
      "625/625 - 34s - loss: 0.1150 - accuracy: 0.9564 - val_loss: 0.0087 - val_accuracy: 0.9998\n",
      "Epoch 92/1000\n",
      "625/625 - 34s - loss: 0.1104 - accuracy: 0.9591 - val_loss: 0.0119 - val_accuracy: 0.9985\n",
      "Epoch 93/1000\n",
      "625/625 - 34s - loss: 0.1159 - accuracy: 0.9556 - val_loss: 0.0124 - val_accuracy: 0.9980\n",
      "Epoch 94/1000\n",
      "625/625 - 34s - loss: 0.1139 - accuracy: 0.9567 - val_loss: 0.0111 - val_accuracy: 0.9995\n",
      "Epoch 95/1000\n",
      "625/625 - 34s - loss: 0.1115 - accuracy: 0.9578 - val_loss: 0.0157 - val_accuracy: 0.9958\n",
      "Epoch 96/1000\n",
      "625/625 - 34s - loss: 0.1135 - accuracy: 0.9567 - val_loss: 0.0125 - val_accuracy: 0.9983\n",
      "Epoch 97/1000\n",
      "625/625 - 34s - loss: 0.1104 - accuracy: 0.9597 - val_loss: 0.0129 - val_accuracy: 0.9995\n",
      "Epoch 98/1000\n",
      "625/625 - 34s - loss: 0.1096 - accuracy: 0.9585 - val_loss: 0.0119 - val_accuracy: 0.9985\n",
      "Epoch 99/1000\n",
      "625/625 - 33s - loss: 0.1067 - accuracy: 0.9602 - val_loss: 0.0125 - val_accuracy: 0.9987\n",
      "Epoch 100/1000\n",
      "625/625 - 34s - loss: 0.1110 - accuracy: 0.9584 - val_loss: 0.0108 - val_accuracy: 0.9990\n",
      "Epoch 101/1000\n",
      "625/625 - 34s - loss: 0.1130 - accuracy: 0.9577 - val_loss: 0.0092 - val_accuracy: 0.9995\n"
     ]
    }
   ],
   "source": [
    "# Init image classifier.\n",
    "clf = ak.ImageClassifier(max_trials=MAX_TRIES, name=OUTPUT_NAME)\n",
    "# Feed the image classifier with training data.\n",
    "clf.fit(x_train,y_train, verbose=2)"
   ]
  },
  {
   "cell_type": "code",
   "execution_count": 53,
   "metadata": {},
   "outputs": [
    {
     "name": "stdout",
     "output_type": "stream",
     "text": [
      "157/157 [==============================] - ETA: 13s - loss: 0.6545 - accuracy: 0.718 - ETA: 5s - loss: 0.6889 - accuracy: 0.796 - ETA: 4s - loss: 0.5824 - accuracy: 0.81 - ETA: 3s - loss: 0.5444 - accuracy: 0.82 - ETA: 3s - loss: 0.6013 - accuracy: 0.82 - ETA: 3s - loss: 0.6256 - accuracy: 0.82 - ETA: 3s - loss: 0.6035 - accuracy: 0.82 - ETA: 2s - loss: 0.6514 - accuracy: 0.82 - ETA: 2s - loss: 0.6221 - accuracy: 0.83 - ETA: 2s - loss: 0.6244 - accuracy: 0.83 - ETA: 2s - loss: 0.6180 - accuracy: 0.82 - ETA: 2s - loss: 0.6278 - accuracy: 0.83 - ETA: 2s - loss: 0.6278 - accuracy: 0.83 - ETA: 2s - loss: 0.6330 - accuracy: 0.83 - ETA: 2s - loss: 0.6378 - accuracy: 0.83 - ETA: 2s - loss: 0.6155 - accuracy: 0.83 - ETA: 1s - loss: 0.6196 - accuracy: 0.83 - ETA: 1s - loss: 0.6450 - accuracy: 0.83 - ETA: 1s - loss: 0.6463 - accuracy: 0.83 - ETA: 1s - loss: 0.6567 - accuracy: 0.82 - ETA: 1s - loss: 0.6539 - accuracy: 0.82 - ETA: 1s - loss: 0.6547 - accuracy: 0.82 - ETA: 1s - loss: 0.6527 - accuracy: 0.82 - ETA: 1s - loss: 0.6561 - accuracy: 0.82 - ETA: 1s - loss: 0.6449 - accuracy: 0.82 - ETA: 1s - loss: 0.6329 - accuracy: 0.83 - ETA: 1s - loss: 0.6329 - accuracy: 0.83 - ETA: 1s - loss: 0.6454 - accuracy: 0.82 - ETA: 1s - loss: 0.6401 - accuracy: 0.83 - ETA: 0s - loss: 0.6320 - accuracy: 0.83 - ETA: 0s - loss: 0.6352 - accuracy: 0.83 - ETA: 0s - loss: 0.6421 - accuracy: 0.82 - ETA: 0s - loss: 0.6450 - accuracy: 0.82 - ETA: 0s - loss: 0.6423 - accuracy: 0.82 - ETA: 0s - loss: 0.6376 - accuracy: 0.82 - ETA: 0s - loss: 0.6380 - accuracy: 0.82 - ETA: 0s - loss: 0.6375 - accuracy: 0.82 - ETA: 0s - loss: 0.6410 - accuracy: 0.82 - ETA: 0s - loss: 0.6458 - accuracy: 0.82 - ETA: 0s - loss: 0.6505 - accuracy: 0.82 - ETA: 0s - loss: 0.6439 - accuracy: 0.82 - ETA: 0s - loss: 0.6378 - accuracy: 0.82 - ETA: 0s - loss: 0.6356 - accuracy: 0.82 - ETA: 0s - loss: 0.6418 - accuracy: 0.82 - ETA: 0s - loss: 0.6398 - accuracy: 0.82 - 3s 17ms/step - loss: 0.6409 - accuracy: 0.8274\n"
     ]
    }
   ],
   "source": [
    "score = clf.evaluate(x_test, y_test)"
   ]
  },
  {
   "cell_type": "code",
   "execution_count": 64,
   "metadata": {},
   "outputs": [
    {
     "name": "stdout",
     "output_type": "stream",
     "text": [
      "Accuracy: 0.8274000287055969\n",
      "Loss: 0.6383044676065445\n"
     ]
    }
   ],
   "source": [
    "print('Accuracy: {accuracy}\\nLoss: {loss}'.format(accuracy=score[1], loss=score[0]))"
   ]
  },
  {
   "cell_type": "code",
   "execution_count": 65,
   "metadata": {},
   "outputs": [
    {
     "name": "stdout",
     "output_type": "stream",
     "text": [
      "Model succesfully exported\n",
      "<class 'tensorflow.python.keras.engine.training.Model'>\n"
     ]
    }
   ],
   "source": [
    "model = clf.export_model()\n",
    "model.save(OUTPUT_NAME + '/model.h5')\n",
    "print('Model succesfully exported')\n",
    "print(type(model))"
   ]
  },
  {
   "cell_type": "markdown",
   "metadata": {},
   "source": [
    "## Model visualization"
   ]
  },
  {
   "cell_type": "code",
   "execution_count": 56,
   "metadata": {},
   "outputs": [],
   "source": [
    "import matplotlib.pyplot as plt\n",
    "import seaborn as sns;sns.set()\n",
    "from tensorflow.python.keras.models import load_model\n",
    "from tensorflow.keras.layers.experimental.preprocessing import Normalization\n",
    "from sklearn.metrics import confusion_matrix\n",
    "from tensorflow.keras.utils import plot_model\n",
    "from sklearn.metrics import accuracy_score"
   ]
  },
  {
   "cell_type": "code",
   "execution_count": 57,
   "metadata": {},
   "outputs": [
    {
     "name": "stdout",
     "output_type": "stream",
     "text": [
      "WARNING:tensorflow:Error in loading the saved optimizer state. As a result, your model is starting with a freshly initialized optimizer.\n",
      "Model succesfully loaded\n"
     ]
    }
   ],
   "source": [
    "# Load model\n",
    "cust = ak.CUSTOM_OBJECTS\n",
    "cust['Normalization'] = Normalization\n",
    "\n",
    "model = load_model(OUTPUT_NAME+'/model.h5', custom_objects=cust)\n",
    "\n",
    "print(\"Model succesfully loaded\")"
   ]
  },
  {
   "cell_type": "code",
   "execution_count": 58,
   "metadata": {},
   "outputs": [],
   "source": [
    "predictions = model.predict(x_test)"
   ]
  },
  {
   "cell_type": "code",
   "execution_count": 79,
   "metadata": {},
   "outputs": [
    {
     "name": "stdout",
     "output_type": "stream",
     "text": [
      "Prediction:  [0.51451457] , Actual:  0\n",
      "Prediction:  [0.566036] , Actual:  0\n",
      "Prediction:  [0.99702567] , Actual:  0\n",
      "Prediction:  [4.3547104e-07] , Actual:  0\n",
      "Prediction:  [0.9818162] , Actual:  1\n",
      "\n",
      "Made 5000 predictions. 4137 of those are correct. Approximatly 83%.\n"
     ]
    }
   ],
   "source": [
    "instances = 0\n",
    "correct_ones = 0\n",
    "\n",
    "for i in range(0, len(predictions)):\n",
    "    if i < 5:\n",
    "        print(\"Prediction: \", predictions[i], \", Actual: \", y_test[i])\n",
    "    if predictions[i].round() == y_test[i]:\n",
    "        correct_ones += 1\n",
    "    instances += 1\n",
    "    \n",
    "print('\\nMade {amountPred} predictions. {amountCorrect} of those are correct. Approximatly {percentage}%.'\n",
    "      .format(amountPred=instances, amountCorrect=correct_ones, percentage=round((correct_ones/instances) * 100)))"
   ]
  },
  {
   "cell_type": "code",
   "execution_count": 60,
   "metadata": {},
   "outputs": [
    {
     "name": "stdout",
     "output_type": "stream",
     "text": [
      "5000/5000 [==============================] - ETA: 13s - loss: 0.6545 - accuracy: 0.718 - ETA: 5s - loss: 0.6889 - accuracy: 0.796 - ETA: 4s - loss: 0.5824 - accuracy: 0.81 - ETA: 3s - loss: 0.6069 - accuracy: 0.81 - ETA: 3s - loss: 0.6171 - accuracy: 0.81 - ETA: 2s - loss: 0.5969 - accuracy: 0.82 - ETA: 2s - loss: 0.6313 - accuracy: 0.82 - ETA: 2s - loss: 0.6221 - accuracy: 0.83 - ETA: 2s - loss: 0.6244 - accuracy: 0.83 - ETA: 2s - loss: 0.6182 - accuracy: 0.83 - ETA: 2s - loss: 0.6388 - accuracy: 0.82 - ETA: 2s - loss: 0.6342 - accuracy: 0.83 - ETA: 2s - loss: 0.6301 - accuracy: 0.83 - ETA: 1s - loss: 0.6289 - accuracy: 0.83 - ETA: 1s - loss: 0.6168 - accuracy: 0.83 - ETA: 1s - loss: 0.6450 - accuracy: 0.83 - ETA: 1s - loss: 0.6458 - accuracy: 0.83 - ETA: 1s - loss: 0.6558 - accuracy: 0.82 - ETA: 1s - loss: 0.6495 - accuracy: 0.82 - ETA: 1s - loss: 0.6567 - accuracy: 0.82 - ETA: 1s - loss: 0.6546 - accuracy: 0.82 - ETA: 1s - loss: 0.6480 - accuracy: 0.82 - ETA: 1s - loss: 0.6409 - accuracy: 0.83 - ETA: 1s - loss: 0.6341 - accuracy: 0.83 - ETA: 1s - loss: 0.6352 - accuracy: 0.83 - ETA: 1s - loss: 0.6495 - accuracy: 0.82 - ETA: 0s - loss: 0.6385 - accuracy: 0.83 - ETA: 0s - loss: 0.6333 - accuracy: 0.83 - ETA: 0s - loss: 0.6365 - accuracy: 0.83 - ETA: 0s - loss: 0.6448 - accuracy: 0.82 - ETA: 0s - loss: 0.6462 - accuracy: 0.82 - ETA: 0s - loss: 0.6387 - accuracy: 0.82 - ETA: 0s - loss: 0.6376 - accuracy: 0.82 - ETA: 0s - loss: 0.6380 - accuracy: 0.82 - ETA: 0s - loss: 0.6417 - accuracy: 0.82 - ETA: 0s - loss: 0.6399 - accuracy: 0.82 - ETA: 0s - loss: 0.6490 - accuracy: 0.82 - ETA: 0s - loss: 0.6505 - accuracy: 0.82 - ETA: 0s - loss: 0.6404 - accuracy: 0.82 - ETA: 0s - loss: 0.6378 - accuracy: 0.82 - ETA: 0s - loss: 0.6356 - accuracy: 0.82 - ETA: 0s - loss: 0.6418 - accuracy: 0.82 - ETA: 0s - loss: 0.6389 - accuracy: 0.82 - ETA: 0s - loss: 0.6394 - accuracy: 0.82 - 3s 530us/sample - loss: 0.6383 - accuracy: 0.8274\n"
     ]
    }
   ],
   "source": [
    "score = model.evaluate(x_test, y_test)"
   ]
  },
  {
   "cell_type": "code",
   "execution_count": 66,
   "metadata": {},
   "outputs": [
    {
     "name": "stdout",
     "output_type": "stream",
     "text": [
      "Accuracy: 0.8274000287055969\n",
      "Loss: 0.6383044676065445\n"
     ]
    }
   ],
   "source": [
    "print('Accuracy: {accuracy}\\nLoss: {loss}'.format(accuracy=score[1], loss=score[0]))"
   ]
  },
  {
   "cell_type": "code",
   "execution_count": 62,
   "metadata": {},
   "outputs": [
    {
     "data": {
      "text/plain": [
       "Text(90.80000000000001, 0.5, 'predicted category')"
      ]
     },
     "execution_count": 62,
     "metadata": {},
     "output_type": "execute_result"
    },
    {
     "data": {
      "image/png": "[encoded data removed]",
      "text/plain": [
       "<Figure size 432x288 with 1 Axes>"
      ]
     },
     "metadata": {
      "needs_background": "light"
     },
     "output_type": "display_data"
    }
   ],
   "source": [
    "plt.style.use('classic')\n",
    "%matplotlib inline\n",
    "\n",
    "mat = confusion_matrix(y_test, predictions.round())\n",
    "labels = ['dog', 'cat']\n",
    "\n",
    "sns.heatmap(mat.T, square=True, annot=True, fmt='d', cbar=False, xticklabels=labels, yticklabels=labels)\n",
    "plt.xlabel('true category')\n",
    "plt.ylabel('predicted category')"
   ]
  },
  {
   "cell_type": "code",
   "execution_count": 67,
   "metadata": {
    "scrolled": false
   },
   "outputs": [
    {
     "name": "stdout",
     "output_type": "stream",
     "text": [
      "Model: \"model\"\n",
      "_________________________________________________________________\n",
      "Layer (type)                 Output Shape              Param #   \n",
      "=================================================================\n",
      "input_1 (InputLayer)         [(None, 64, 64, 1)]       0         \n",
      "_________________________________________________________________\n",
      "normalization (Normalization (None, 64, 64, 1)         3         \n",
      "_________________________________________________________________\n",
      "conv2d (Conv2D)              (None, 62, 62, 32)        320       \n",
      "_________________________________________________________________\n",
      "conv2d_1 (Conv2D)            (None, 60, 60, 64)        18496     \n",
      "_________________________________________________________________\n",
      "max_pooling2d (MaxPooling2D) (None, 30, 30, 64)        0         \n",
      "_________________________________________________________________\n",
      "dropout (Dropout)            (None, 30, 30, 64)        0         \n",
      "_________________________________________________________________\n",
      "flatten (Flatten)            (None, 57600)             0         \n",
      "_________________________________________________________________\n",
      "dropout_1 (Dropout)          (None, 57600)             0         \n",
      "_________________________________________________________________\n",
      "dense (Dense)                (None, 1)                 57601     \n",
      "_________________________________________________________________\n",
      "classification_head_1 (Sigmo (None, 1)                 0         \n",
      "=================================================================\n",
      "Total params: 76,420\n",
      "Trainable params: 76,417\n",
      "Non-trainable params: 3\n",
      "_________________________________________________________________\n"
     ]
    }
   ],
   "source": [
    "model.summary()"
   ]
  },
  {
   "cell_type": "code",
   "execution_count": 68,
   "metadata": {
    "scrolled": false
   },
   "outputs": [
    {
     "data": {
      "image/png": "[encoded data removed]",
      "text/plain": [
       "<IPython.core.display.Image object>"
      ]
     },
     "execution_count": 68,
     "metadata": {},
     "output_type": "execute_result"
    }
   ],
   "source": [
    "plot_model(model, to_file=OUTPUT_NAME + '/model.png', show_shapes=True, show_layer_names=True)"
   ]
  }
 ],
 "metadata": {
  "kernelspec": {
   "display_name": "Python 3",
   "language": "python",
   "name": "python3"
  },
  "language_info": {
   "codemirror_mode": {
    "name": "ipython",
    "version": 3
   },
   "file_extension": ".py",
   "mimetype": "text/x-python",
   "name": "python",
   "nbconvert_exporter": "python",
   "pygments_lexer": "ipython3",
   "version": "3.7.4"
  }
 },
 "nbformat": 4,
 "nbformat_minor": 2
}
